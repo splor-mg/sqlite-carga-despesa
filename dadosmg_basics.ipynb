{
 "cells": [
  {
   "cell_type": "markdown",
   "id": "4ed20390",
   "metadata": {},
   "source": [
    "# TUTORIAL DE DUCKDB NO CONTEXTO DO SPREADMART ORÇAMENTÁRIO"
   ]
  },
  {
   "cell_type": "markdown",
   "id": "07b65407",
   "metadata": {},
   "source": [
    "## TO DO\n",
    "1. Clausulas SQL para somente criar ou deletar tabelas caso não já exisitam\n",
    "1. Tratamento de erros e exceções para quando não for possível criar ou conectar na base de dados, criar ou deletar tabelas e etc.\n",
    "1. "
   ]
  },
  {
   "cell_type": "markdown",
   "id": "1ff0b69f",
   "metadata": {},
   "source": [
    "## Imports"
   ]
  },
  {
   "cell_type": "code",
   "execution_count": 1,
   "id": "5a50f979",
   "metadata": {},
   "outputs": [],
   "source": [
    "import pandas as pd\n",
    "import glob\n",
    "import time\n",
    "import duckdb\n",
    "import os\n",
    "\n",
    "#conn = duckdb.connect() # cria base de dados in-memory"
   ]
  },
  {
   "cell_type": "markdown",
   "id": "934162d7",
   "metadata": {},
   "source": [
    "## Constants"
   ]
  },
  {
   "cell_type": "code",
   "execution_count": 2,
   "id": "6dbd997c",
   "metadata": {},
   "outputs": [],
   "source": [
    "DB_NAME = 'database/dadosmg.db'\n",
    "CSV_PATH = 'datasets\\\\'"
   ]
  },
  {
   "cell_type": "markdown",
   "id": "3e4f095d",
   "metadata": {},
   "source": [
    "## Criar e conectar a uma base de dados persistente (em disco)"
   ]
  },
  {
   "cell_type": "code",
   "execution_count": 3,
   "id": "a79b8021",
   "metadata": {},
   "outputs": [],
   "source": [
    "con = duckdb.connect(DB_NAME)"
   ]
  },
  {
   "cell_type": "markdown",
   "id": "28216bd5",
   "metadata": {},
   "source": [
    "## Realizar selects diretamente no arquivos de dados e mostrar tempo de execução"
   ]
  },
  {
   "cell_type": "code",
   "execution_count": 4,
   "id": "e543bdc5",
   "metadata": {},
   "outputs": [
    {
     "name": "stdout",
     "output_type": "stream",
     "text": [
      "Tempo de select nos arquivos CSV: 10.93 segundos\n"
     ]
    }
   ],
   "source": [
    "cur_time = time.time()\n",
    "\n",
    "# troca \\\\ por / para evitar erros nas strings de caminhos dos arquivos\n",
    "file_paths = [i.replace('\\\\', '/') for i in list(glob.iglob(f'{CSV_PATH}*.csv'))] \n",
    "\n",
    "for file in file_paths: \n",
    "    df = con.execute(f\"\"\"SELECT * FROM '{file}' \"\"\").df() # converte e armazena em um pandas dataframe\n",
    "\n",
    "print(f\"Tempo de select nos arquivos CSV: {(time.time() - cur_time):1.2f} segundos\")"
   ]
  },
  {
   "cell_type": "markdown",
   "id": "cbe9c895",
   "metadata": {},
   "source": [
    "## Apagar todas as tabelas caso existam"
   ]
  },
  {
   "cell_type": "code",
   "execution_count": 5,
   "id": "9195b079",
   "metadata": {},
   "outputs": [
    {
     "name": "stdout",
     "output_type": "stream",
     "text": [
      "Não há tabelas na database database/dadosmg.db\n"
     ]
    }
   ],
   "source": [
    "if con.execute(\"\"\"SHOW TABLES\"\"\").fetchall():\n",
    "    for table_name in con.execute(\"SHOW TABLES\").fetchall():\n",
    "        con.execute(f\"\"\"DROP TABLE {table_name[0]} \"\"\")\n",
    "        print(f\"Tabela {table_name} apagada.\")\n",
    "else:\n",
    "    print(f\"Não há tabelas na database {DB_NAME}\")\n",
    "\n"
   ]
  },
  {
   "cell_type": "markdown",
   "id": "ca94d15b",
   "metadata": {},
   "source": [
    "## Carregar arquivos CSV para tabelas com mesmo nome"
   ]
  },
  {
   "cell_type": "code",
   "execution_count": 6,
   "id": "bf1c3c6a",
   "metadata": {},
   "outputs": [
    {
     "name": "stdout",
     "output_type": "stream",
     "text": [
      "Arquivo datasets/dm_acao.csv carregado para tabela dm_acao\n",
      "Arquivo datasets/dm_categ_econ.csv carregado para tabela dm_categ_econ\n",
      "Arquivo datasets/dm_elemento_desp.csv carregado para tabela dm_elemento_desp\n",
      "Arquivo datasets/dm_empenho_desp_2002.csv carregado para tabela dm_empenho_desp_2002\n",
      "Arquivo datasets/dm_empenho_desp_2003.csv carregado para tabela dm_empenho_desp_2003\n",
      "Arquivo datasets/dm_empenho_desp_2004.csv carregado para tabela dm_empenho_desp_2004\n",
      "Arquivo datasets/dm_empenho_desp_2005.csv carregado para tabela dm_empenho_desp_2005\n",
      "Arquivo datasets/dm_empenho_desp_2006.csv carregado para tabela dm_empenho_desp_2006\n",
      "Arquivo datasets/dm_empenho_desp_2007.csv carregado para tabela dm_empenho_desp_2007\n",
      "Arquivo datasets/dm_empenho_desp_2008.csv carregado para tabela dm_empenho_desp_2008\n",
      "Arquivo datasets/dm_empenho_desp_2009.csv carregado para tabela dm_empenho_desp_2009\n",
      "Arquivo datasets/dm_empenho_desp_2010.csv carregado para tabela dm_empenho_desp_2010\n",
      "Arquivo datasets/dm_empenho_desp_2011.csv carregado para tabela dm_empenho_desp_2011\n",
      "Arquivo datasets/dm_empenho_desp_2012.csv carregado para tabela dm_empenho_desp_2012\n",
      "Arquivo datasets/dm_empenho_desp_2013.csv carregado para tabela dm_empenho_desp_2013\n",
      "Arquivo datasets/dm_empenho_desp_2014.csv carregado para tabela dm_empenho_desp_2014\n",
      "Arquivo datasets/dm_empenho_desp_2015.csv carregado para tabela dm_empenho_desp_2015\n",
      "Arquivo datasets/dm_empenho_desp_2016.csv carregado para tabela dm_empenho_desp_2016\n",
      "Arquivo datasets/dm_empenho_desp_2017.csv carregado para tabela dm_empenho_desp_2017\n",
      "Arquivo datasets/dm_empenho_desp_2018.csv carregado para tabela dm_empenho_desp_2018\n",
      "Arquivo datasets/dm_empenho_desp_2019.csv carregado para tabela dm_empenho_desp_2019\n",
      "Arquivo datasets/dm_empenho_desp_2020.csv carregado para tabela dm_empenho_desp_2020\n",
      "Arquivo datasets/dm_empenho_desp_2021.csv carregado para tabela dm_empenho_desp_2021\n",
      "Arquivo datasets/dm_empenho_desp_2022.csv carregado para tabela dm_empenho_desp_2022\n",
      "Arquivo datasets/dm_empenho_desp_2023.csv carregado para tabela dm_empenho_desp_2023\n"
     ]
    }
   ],
   "source": [
    "file_paths = [i.replace('\\\\', '/') for i in list(glob.iglob(f'{CSV_PATH}*.csv'))]\n",
    "\n",
    "for file in file_paths:\n",
    "    _ , tail = os.path.split(file)\n",
    "    name , file_extension = os.path.splitext(tail)\n",
    "    con.execute(f\"\"\"CREATE TABLE '{name}' AS SELECT * FROM read_csv_auto('{file}')\"\"\")\n",
    "    print(f\"Arquivo {file} carregado para tabela {name}\")\n",
    "     \n"
   ]
  },
  {
   "cell_type": "markdown",
   "id": "acf9e560",
   "metadata": {},
   "source": [
    "## Mostrar todas a tabelas de uma Database"
   ]
  },
  {
   "cell_type": "code",
   "execution_count": 7,
   "id": "247dfcc6",
   "metadata": {},
   "outputs": [
    {
     "name": "stdout",
     "output_type": "stream",
     "text": [
      "┌──────────────────────┐\n",
      "│         name         │\n",
      "│       varchar        │\n",
      "├──────────────────────┤\n",
      "│ dm_acao              │\n",
      "│ dm_categ_econ        │\n",
      "│ dm_elemento_desp     │\n",
      "│ dm_empenho_desp_2002 │\n",
      "│ dm_empenho_desp_2003 │\n",
      "│ dm_empenho_desp_2004 │\n",
      "│ dm_empenho_desp_2005 │\n",
      "│ dm_empenho_desp_2006 │\n",
      "│ dm_empenho_desp_2007 │\n",
      "│ dm_empenho_desp_2008 │\n",
      "│          ·           │\n",
      "│          ·           │\n",
      "│          ·           │\n",
      "│ dm_empenho_desp_2014 │\n",
      "│ dm_empenho_desp_2015 │\n",
      "│ dm_empenho_desp_2016 │\n",
      "│ dm_empenho_desp_2017 │\n",
      "│ dm_empenho_desp_2018 │\n",
      "│ dm_empenho_desp_2019 │\n",
      "│ dm_empenho_desp_2020 │\n",
      "│ dm_empenho_desp_2021 │\n",
      "│ dm_empenho_desp_2022 │\n",
      "│ dm_empenho_desp_2023 │\n",
      "├──────────────────────┤\n",
      "│  25 rows (20 shown)  │\n",
      "└──────────────────────┘\n",
      "\n"
     ]
    }
   ],
   "source": [
    "if con.sql(\"\"\"SHOW TABLES\"\"\").fetchall() != []:\n",
    "    con.execute(f\"\"\"SHOW TABLES\"\"\")\n",
    "else:\n",
    "    print(f\"Não há tabelas na database {DB_NAME}\")\n",
    "\n",
    "con.sql(\"\"\"SHOW TABLES\"\"\").show()"
   ]
  },
  {
   "cell_type": "markdown",
   "id": "8170b102",
   "metadata": {},
   "source": [
    "## Descrever tabelas"
   ]
  },
  {
   "cell_type": "code",
   "execution_count": 8,
   "id": "5e9b51d6",
   "metadata": {},
   "outputs": [
    {
     "name": "stdout",
     "output_type": "stream",
     "text": [
      "┌──────────────────────┬──────────────────────┬────────────────────────────────────────────────────────────┬───────────┐\n",
      "│      table_name      │     column_names     │                        column_types                        │ temporary │\n",
      "│       varchar        │      varchar[]       │                         varchar[]                          │  boolean  │\n",
      "├──────────────────────┼──────────────────────┼────────────────────────────────────────────────────────────┼───────────┤\n",
      "│ dm_acao              │ [id_acao, ano_exer…  │ [BIGINT, BIGINT, BIGINT, VARCHAR]                          │ false     │\n",
      "│ dm_categ_econ        │ [id_categ_econ, cd…  │ [BIGINT, BIGINT, VARCHAR]                                  │ false     │\n",
      "│ dm_elemento_desp     │ [id_elemento, cd_e…  │ [BIGINT, BIGINT, VARCHAR]                                  │ false     │\n",
      "│ dm_empenho_desp_2002 │ [id_empenho, ano_e…  │ [BIGINT, BIGINT, BIGINT, DATE, VARCHAR, VARCHAR, DOUBLE,…  │ false     │\n",
      "│ dm_empenho_desp_2003 │ [id_empenho, ano_e…  │ [BIGINT, BIGINT, BIGINT, DATE, VARCHAR, VARCHAR, DOUBLE,…  │ false     │\n",
      "│ dm_empenho_desp_2004 │ [id_empenho, ano_e…  │ [BIGINT, BIGINT, BIGINT, DATE, VARCHAR, VARCHAR, DOUBLE,…  │ false     │\n",
      "│ dm_empenho_desp_2005 │ [id_empenho, ano_e…  │ [BIGINT, BIGINT, BIGINT, DATE, VARCHAR, VARCHAR, DOUBLE,…  │ false     │\n",
      "│ dm_empenho_desp_2006 │ [id_empenho, ano_e…  │ [BIGINT, BIGINT, BIGINT, DATE, VARCHAR, VARCHAR, DOUBLE,…  │ false     │\n",
      "│ dm_empenho_desp_2007 │ [id_empenho, ano_e…  │ [BIGINT, BIGINT, BIGINT, DATE, VARCHAR, VARCHAR, DOUBLE,…  │ false     │\n",
      "│ dm_empenho_desp_2008 │ [id_empenho, ano_e…  │ [BIGINT, BIGINT, BIGINT, DATE, VARCHAR, VARCHAR, DOUBLE,…  │ false     │\n",
      "│          ·           │          ·           │                             ·                              │   ·       │\n",
      "│          ·           │          ·           │                             ·                              │   ·       │\n",
      "│          ·           │          ·           │                             ·                              │   ·       │\n",
      "│ dm_empenho_desp_2014 │ [id_empenho, ano_e…  │ [BIGINT, BIGINT, BIGINT, DATE, VARCHAR, VARCHAR, DOUBLE,…  │ false     │\n",
      "│ dm_empenho_desp_2015 │ [id_empenho, ano_e…  │ [BIGINT, BIGINT, BIGINT, DATE, VARCHAR, VARCHAR, DOUBLE,…  │ false     │\n",
      "│ dm_empenho_desp_2016 │ [id_empenho, ano_e…  │ [BIGINT, BIGINT, BIGINT, DATE, VARCHAR, VARCHAR, DOUBLE,…  │ false     │\n",
      "│ dm_empenho_desp_2017 │ [id_empenho, ano_e…  │ [BIGINT, BIGINT, BIGINT, DATE, VARCHAR, VARCHAR, DOUBLE,…  │ false     │\n",
      "│ dm_empenho_desp_2018 │ [id_empenho, ano_e…  │ [BIGINT, BIGINT, BIGINT, DATE, VARCHAR, VARCHAR, DOUBLE,…  │ false     │\n",
      "│ dm_empenho_desp_2019 │ [id_empenho, ano_e…  │ [BIGINT, BIGINT, BIGINT, DATE, VARCHAR, VARCHAR, DOUBLE,…  │ false     │\n",
      "│ dm_empenho_desp_2020 │ [id_empenho, ano_e…  │ [BIGINT, BIGINT, BIGINT, DATE, VARCHAR, VARCHAR, DOUBLE,…  │ false     │\n",
      "│ dm_empenho_desp_2021 │ [id_empenho, ano_e…  │ [BIGINT, BIGINT, BIGINT, DATE, VARCHAR, VARCHAR, DOUBLE,…  │ false     │\n",
      "│ dm_empenho_desp_2022 │ [id_empenho, ano_e…  │ [BIGINT, BIGINT, BIGINT, DATE, VARCHAR, VARCHAR, DOUBLE,…  │ false     │\n",
      "│ dm_empenho_desp_2023 │ [id_empenho, ano_e…  │ [BIGINT, BIGINT, BIGINT, DATE, VARCHAR, VARCHAR, DOUBLE,…  │ false     │\n",
      "├──────────────────────┴──────────────────────┴────────────────────────────────────────────────────────────┴───────────┤\n",
      "│ 25 rows (20 shown)                                                                                         4 columns │\n",
      "└──────────────────────────────────────────────────────────────────────────────────────────────────────────────────────┘\n",
      "\n"
     ]
    }
   ],
   "source": [
    "con.sql(\"\"\"DESCRIBE\"\"\").show()"
   ]
  },
  {
   "cell_type": "markdown",
   "id": "fdb3d21b",
   "metadata": {},
   "source": [
    "## Mostra conteúdo de uma tabela"
   ]
  },
  {
   "cell_type": "code",
   "execution_count": 9,
   "id": "60399d2f",
   "metadata": {},
   "outputs": [
    {
     "name": "stdout",
     "output_type": "stream",
     "text": [
      "┌────────────┬───────────────┬────────────┬───┬───────────────┬────────────┬───────────────────┬────────────────┐\n",
      "│ id_empenho │ ano_exercicio │ nr_empenho │ … │ tipo_empenho  │ vr_empenho │ cd_uni_prog_gasto │ uni_prog_gasto │\n",
      "│   int64    │     int64     │   int64    │   │    varchar    │   double   │       int64       │    varchar     │\n",
      "├────────────┼───────────────┼────────────┼───┼───────────────┼────────────┼───────────────────┼────────────────┤\n",
      "│     788955 │          2002 │          0 │ … │ SEM DESCRICAO │   38042.78 │                 0 │ NULL           │\n",
      "│     788956 │          2002 │          0 │ … │ SEM DESCRICAO │     159.75 │                 0 │ NULL           │\n",
      "│     788957 │          2002 │          0 │ … │ SEM DESCRICAO │    6873.15 │                 0 │ NULL           │\n",
      "│     788958 │          2002 │          0 │ … │ SEM DESCRICAO │     1245.0 │                 0 │ NULL           │\n",
      "│     788959 │          2002 │          0 │ … │ SEM DESCRICAO │  169691.73 │                 0 │ NULL           │\n",
      "│     788960 │          2002 │          0 │ … │ SEM DESCRICAO │     1260.0 │                 0 │ NULL           │\n",
      "│     788961 │          2002 │          2 │ … │ ESTIMADO      │     4500.0 │                 0 │ NULL           │\n",
      "│     788962 │          2002 │          2 │ … │ ORDINÁRIO     │    1912.88 │                 0 │ NULL           │\n",
      "│     788963 │          2002 │          2 │ … │ ESTIMADO      │     1000.0 │                 0 │ NULL           │\n",
      "│     788964 │          2002 │          7 │ … │ ORDINÁRIO     │      180.0 │                 0 │ NULL           │\n",
      "│        ·   │            ·  │          · │ · │    ·          │         ·  │                 · │  ·             │\n",
      "│        ·   │            ·  │          · │ · │    ·          │         ·  │                 · │  ·             │\n",
      "│        ·   │            ·  │          · │ · │    ·          │         ·  │                 · │  ·             │\n",
      "│     794063 │          2002 │         35 │ … │ ESTIMADO      │       35.0 │                 0 │ NULL           │\n",
      "│     794064 │          2002 │        282 │ … │ ORDINÁRIO     │       35.0 │                 0 │ NULL           │\n",
      "│     794204 │          2002 │         82 │ … │ ESTIMADO      │      700.0 │                 0 │ NULL           │\n",
      "│     794205 │          2002 │         62 │ … │ ORDINÁRIO     │      400.0 │                 0 │ NULL           │\n",
      "│     794206 │          2002 │       1581 │ … │ ORDINÁRIO     │      363.0 │                 0 │ NULL           │\n",
      "│     794207 │          2002 │       1033 │ … │ ESTIMADO      │     1437.0 │                 0 │ NULL           │\n",
      "│     794208 │          2002 │        336 │ … │ ORDINÁRIO     │       9.14 │                 0 │ NULL           │\n",
      "│     794209 │          2002 │         21 │ … │ ESTIMADO      │       70.0 │                 0 │ NULL           │\n",
      "│     794210 │          2002 │         22 │ … │ ESTIMADO      │       55.0 │                 0 │ NULL           │\n",
      "│     794211 │          2002 │        145 │ … │ ESTIMADO      │     1890.0 │                 0 │ NULL           │\n",
      "├────────────┴───────────────┴────────────┴───┴───────────────┴────────────┴───────────────────┴────────────────┤\n",
      "│ ? rows (>9999 rows, 20 shown)                                                             9 columns (7 shown) │\n",
      "└───────────────────────────────────────────────────────────────────────────────────────────────────────────────┘\n",
      "\n"
     ]
    }
   ],
   "source": [
    "TABLE_NAME = \"dm_empenho_desp_2002\"\n",
    "\n",
    "con.table(TABLE_NAME).show()"
   ]
  },
  {
   "cell_type": "markdown",
   "id": "b0ff44ca",
   "metadata": {},
   "source": [
    "## Descrever uma tabela específica"
   ]
  },
  {
   "cell_type": "code",
   "execution_count": 10,
   "id": "fdc25925",
   "metadata": {},
   "outputs": [
    {
     "data": {
      "text/plain": [
       "┌─────────┬───────────────────┬───────────────┬───┬────────────────────┬───────────────────┬────────────────┐\n",
       "│  aggr   │    id_empenho     │ ano_exercicio │ … │     vr_empenho     │ cd_uni_prog_gasto │ uni_prog_gasto │\n",
       "│ varchar │      double       │    double     │   │       double       │      double       │    varchar     │\n",
       "├─────────┼───────────────────┼───────────────┼───┼────────────────────┼───────────────────┼────────────────┤\n",
       "│ count   │          606150.0 │      606150.0 │ … │           606150.0 │          606150.0 │ 0              │\n",
       "│ mean    │ 5399765.179965355 │        2002.0 │ … │ 10344.671022931549 │ 266.1621562319558 │ NULL           │\n",
       "│ stddev  │ 2991273.945032219 │           0.0 │ … │  526242.7659111151 │ 641.9119659752052 │ NULL           │\n",
       "│ min     │          788926.0 │        2002.0 │ … │                0.0 │               0.0 │ NULL           │\n",
       "│ max     │        10003541.0 │        2002.0 │ … │        200000000.0 │            2544.0 │ NULL           │\n",
       "│ median  │         6011697.5 │        2002.0 │ … │              145.0 │               0.0 │ NULL           │\n",
       "├─────────┴───────────────────┴───────────────┴───┴────────────────────┴───────────────────┴────────────────┤\n",
       "│ 6 rows                                                                               10 columns (6 shown) │\n",
       "└───────────────────────────────────────────────────────────────────────────────────────────────────────────┘"
      ]
     },
     "execution_count": 10,
     "metadata": {},
     "output_type": "execute_result"
    }
   ],
   "source": [
    "TABLE_NAME = \"dm_empenho_desp_2002\"\n",
    "\n",
    "con.table(TABLE_NAME).describe()"
   ]
  },
  {
   "cell_type": "markdown",
   "id": "6252ae90",
   "metadata": {},
   "source": [
    "## Agregar linhas por valores de uma coluna\n",
    "Aplica um agregado (opcionalmente agrupado) sobre a relação. O sistema agrupará automaticamente por qualquer coluna que não seja agregada."
   ]
  },
  {
   "cell_type": "code",
   "execution_count": 11,
   "id": "4023c5a3",
   "metadata": {},
   "outputs": [
    {
     "data": {
      "text/plain": [
       "┌─────────────────┬────────────────────┬───────────────────┐\n",
       "│ Tipo do empenho │  sum(vr_empenho)   │ count(id_empenho) │\n",
       "│     varchar     │       double       │       int64       │\n",
       "├─────────────────┼────────────────────┼───────────────────┤\n",
       "│ ORDINÁRIO       │ 3010612218.4999986 │            267704 │\n",
       "│ ESTIMADO        │ 2630540401.6100035 │            332933 │\n",
       "│ GLOBAL          │ 255000184.17999998 │              5249 │\n",
       "│ SEM DESCRICAO   │ 374269536.26000005 │               264 │\n",
       "└─────────────────┴────────────────────┴───────────────────┘"
      ]
     },
     "execution_count": 11,
     "metadata": {},
     "output_type": "execute_result"
    }
   ],
   "source": [
    "TABLE_NAME = 'dm_empenho_desp_2002'\n",
    "rel = con.sql(f\"\"\"SELECT * FROM {TABLE_NAME}\"\"\")\n",
    "\n",
    "\n",
    "rel.aggregate(\"tipo_empenho AS 'Tipo do empenho', sum(vr_empenho), count(id_empenho)\")"
   ]
  },
  {
   "cell_type": "markdown",
   "id": "744d8a1f",
   "metadata": {},
   "source": [
    "## Concatenar dois arquivos CSV em uma só planilha"
   ]
  },
  {
   "cell_type": "code",
   "execution_count": 12,
   "id": "3c3d9578",
   "metadata": {},
   "outputs": [
    {
     "name": "stdout",
     "output_type": "stream",
     "text": [
      "num linhas df1: 606150\n",
      "num linhas df2: 558038\n",
      "total linhas: 1164188\n",
      "Num linhas da tabela agregada:\n",
      "┌──────────────┐\n",
      "│ count_star() │\n",
      "│    int64     │\n",
      "├──────────────┤\n",
      "│      1164188 │\n",
      "└──────────────┘\n",
      "\n"
     ]
    }
   ],
   "source": [
    "tbl1_name = 'dm_empenho_desp_2002'\n",
    "tbl2_name = 'dm_empenho_desp_2003'\n",
    "tbl_agg_name = 'dm_empenho_desp_agg'\n",
    "\n",
    "\n",
    "df1 = con.sql(f\"\"\"SELECT * FROM {tbl1_name}\"\"\").df()\n",
    "print('num linhas df1:', len(df1))\n",
    "df2 = con.sql(f\"\"\"SELECT * FROM {tbl2_name}\"\"\").df()\n",
    "print('num linhas df2:', len(df2))\n",
    "print('total linhas:', len(df1) + len(df2))\n",
    "\n",
    "df_agg = pd.concat([df1, df2])\n",
    "\n",
    "con.execute(f\"\"\"CREATE TABLE '{tbl_agg_name}' AS SELECT * FROM df_agg \"\"\")\n",
    "\n",
    "print('Num linhas da tabela agregada:')\n",
    "print(con.sql(f\"\"\"SELECT COUNT(*) FROM {tbl_agg_name}\"\"\"))"
   ]
  },
  {
   "cell_type": "code",
   "execution_count": 13,
   "id": "5da1514f",
   "metadata": {},
   "outputs": [
    {
     "name": "stdout",
     "output_type": "stream",
     "text": [
      "Lendo: datasets/dm_empenho_desp_2002.csv\n",
      "Lendo: datasets/dm_empenho_desp_2003.csv\n",
      "Lendo: datasets/dm_empenho_desp_2004.csv\n",
      "Lendo: datasets/dm_empenho_desp_2005.csv\n",
      "Lendo: datasets/dm_empenho_desp_2006.csv\n",
      "Lendo: datasets/dm_empenho_desp_2007.csv\n",
      "Lendo: datasets/dm_empenho_desp_2008.csv\n",
      "Lendo: datasets/dm_empenho_desp_2009.csv\n",
      "Lendo: datasets/dm_empenho_desp_2010.csv\n",
      "Lendo: datasets/dm_empenho_desp_2011.csv\n",
      "Lendo: datasets/dm_empenho_desp_2012.csv\n",
      "Lendo: datasets/dm_empenho_desp_2013.csv\n",
      "Lendo: datasets/dm_empenho_desp_2014.csv\n",
      "Lendo: datasets/dm_empenho_desp_2015.csv\n",
      "Lendo: datasets/dm_empenho_desp_2016.csv\n",
      "Lendo: datasets/dm_empenho_desp_2017.csv\n",
      "Lendo: datasets/dm_empenho_desp_2018.csv\n",
      "Lendo: datasets/dm_empenho_desp_2019.csv\n",
      "Lendo: datasets/dm_empenho_desp_2020.csv\n",
      "Lendo: datasets/dm_empenho_desp_2021.csv\n",
      "Lendo: datasets/dm_empenho_desp_2022.csv\n",
      "Lendo: datasets/dm_empenho_desp_2023.csv\n",
      "Total de linhas tabelas lidas: 12960234\n",
      "Total de linhas do dataframe concatenado: 12960234\n",
      "Num linhas da tabela agregada:\n",
      "┌──────────────┐\n",
      "│ count_star() │\n",
      "│    int64     │\n",
      "├──────────────┤\n",
      "│     12960234 │\n",
      "└──────────────┘\n",
      "\n",
      "┌────────────┬───────────────┬────────────┬───┬───────────────┬────────────┬───────────────────┬────────────────┐\n",
      "│ id_empenho │ ano_exercicio │ nr_empenho │ … │ tipo_empenho  │ vr_empenho │ cd_uni_prog_gasto │ uni_prog_gasto │\n",
      "│   int64    │     int64     │   int64    │   │    varchar    │   double   │       int64       │    varchar     │\n",
      "├────────────┼───────────────┼────────────┼───┼───────────────┼────────────┼───────────────────┼────────────────┤\n",
      "│     788955 │          2002 │          0 │ … │ SEM DESCRICAO │   38042.78 │                 0 │ NULL           │\n",
      "│     788956 │          2002 │          0 │ … │ SEM DESCRICAO │     159.75 │                 0 │ NULL           │\n",
      "│     788957 │          2002 │          0 │ … │ SEM DESCRICAO │    6873.15 │                 0 │ NULL           │\n",
      "│     788958 │          2002 │          0 │ … │ SEM DESCRICAO │     1245.0 │                 0 │ NULL           │\n",
      "│     788959 │          2002 │          0 │ … │ SEM DESCRICAO │  169691.73 │                 0 │ NULL           │\n",
      "│     788960 │          2002 │          0 │ … │ SEM DESCRICAO │     1260.0 │                 0 │ NULL           │\n",
      "│     788961 │          2002 │          2 │ … │ ESTIMADO      │     4500.0 │                 0 │ NULL           │\n",
      "│     788962 │          2002 │          2 │ … │ ORDINÁRIO     │    1912.88 │                 0 │ NULL           │\n",
      "│     788963 │          2002 │          2 │ … │ ESTIMADO      │     1000.0 │                 0 │ NULL           │\n",
      "│     788964 │          2002 │          7 │ … │ ORDINÁRIO     │      180.0 │                 0 │ NULL           │\n",
      "│        ·   │            ·  │          · │ · │    ·          │         ·  │                 · │  ·             │\n",
      "│        ·   │            ·  │          · │ · │    ·          │         ·  │                 · │  ·             │\n",
      "│        ·   │            ·  │          · │ · │    ·          │         ·  │                 · │  ·             │\n",
      "│     794063 │          2002 │         35 │ … │ ESTIMADO      │       35.0 │                 0 │ NULL           │\n",
      "│     794064 │          2002 │        282 │ … │ ORDINÁRIO     │       35.0 │                 0 │ NULL           │\n",
      "│     794204 │          2002 │         82 │ … │ ESTIMADO      │      700.0 │                 0 │ NULL           │\n",
      "│     794205 │          2002 │         62 │ … │ ORDINÁRIO     │      400.0 │                 0 │ NULL           │\n",
      "│     794206 │          2002 │       1581 │ … │ ORDINÁRIO     │      363.0 │                 0 │ NULL           │\n",
      "│     794207 │          2002 │       1033 │ … │ ESTIMADO      │     1437.0 │                 0 │ NULL           │\n",
      "│     794208 │          2002 │        336 │ … │ ORDINÁRIO     │       9.14 │                 0 │ NULL           │\n",
      "│     794209 │          2002 │         21 │ … │ ESTIMADO      │       70.0 │                 0 │ NULL           │\n",
      "│     794210 │          2002 │         22 │ … │ ESTIMADO      │       55.0 │                 0 │ NULL           │\n",
      "│     794211 │          2002 │        145 │ … │ ESTIMADO      │     1890.0 │                 0 │ NULL           │\n",
      "├────────────┴───────────────┴────────────┴───┴───────────────┴────────────┴───────────────────┴────────────────┤\n",
      "│ ? rows (>9999 rows, 20 shown)                                                             9 columns (7 shown) │\n",
      "└───────────────────────────────────────────────────────────────────────────────────────────────────────────────┘\n",
      "\n"
     ]
    }
   ],
   "source": [
    "tbl_agg_name = 'dm_empenho_desp'\n",
    "df_agg = pd.DataFrame()\n",
    "num_linhas = 0\n",
    "\n",
    "file_paths = [i.replace('\\\\', '/') for i in list(glob.iglob(f'{CSV_PATH}dm_empenho_desp_*.csv'))]\n",
    "\n",
    "for file in file_paths:\n",
    "    print(f'Lendo:', file)\n",
    "    df1 = con.execute(f\"\"\"SELECT * FROM '{file}' \"\"\").df()\n",
    "    df_agg = pd.concat([df_agg, df1])\n",
    "    num_linhas += len(df1)\n",
    "      \n",
    "con.execute(f\"\"\"CREATE TABLE '{tbl_agg_name}' AS SELECT * FROM df_agg \"\"\") \n",
    "\n",
    "print('Total de linhas tabelas lidas:', num_linhas)\n",
    "print('Total de linhas do dataframe concatenado:', len(df_agg))\n",
    "print('Num linhas da tabela agregada:')\n",
    "print(con.sql(f\"\"\"SELECT COUNT(*) FROM {tbl_agg_name}\"\"\"))\n",
    "\n",
    "con.table(tbl_agg_name).show()"
   ]
  },
  {
   "cell_type": "markdown",
   "id": "25b4d623",
   "metadata": {},
   "source": [
    "## Fecha conexção com base de dados"
   ]
  },
  {
   "cell_type": "code",
   "execution_count": null,
   "id": "c421042f",
   "metadata": {},
   "outputs": [],
   "source": [
    "con.close()"
   ]
  }
 ],
 "metadata": {
  "kernelspec": {
   "display_name": "Python 3 (ipykernel)",
   "language": "python",
   "name": "python3"
  },
  "language_info": {
   "codemirror_mode": {
    "name": "ipython",
    "version": 3
   },
   "file_extension": ".py",
   "mimetype": "text/x-python",
   "name": "python",
   "nbconvert_exporter": "python",
   "pygments_lexer": "ipython3",
   "version": "3.11.2"
  }
 },
 "nbformat": 4,
 "nbformat_minor": 5
}
