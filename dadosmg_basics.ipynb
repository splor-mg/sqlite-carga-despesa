{
 "cells": [
  {
   "cell_type": "markdown",
   "id": "4ed20390",
   "metadata": {},
   "source": [
    "# TUTORIAL DE SQLITE NO CONTEXTO DO SPREADMART ORÇAMENTÁRIO"
   ]
  },
  {
   "cell_type": "markdown",
   "id": "07b65407",
   "metadata": {},
   "source": [
    "## TO DO\n",
    "1. Clausulas SQL para somente criar ou deletar tabelas caso não já exisitam\n",
    "1. Tratamento de erros e exceções para quando não for possível criar ou conectar na base de dados, criar ou deletar tabelas e etc.\n",
    "1. "
   ]
  },
  {
   "cell_type": "markdown",
   "id": "1ff0b69f",
   "metadata": {},
   "source": [
    "## Imports"
   ]
  },
  {
   "cell_type": "code",
   "execution_count": 4,
   "id": "5a50f979",
   "metadata": {},
   "outputs": [],
   "source": [
    "import pandas as pd\n",
    "import glob\n",
    "import time\n",
    "import sqlite3\n",
    "import os"
   ]
  },
  {
   "cell_type": "markdown",
   "id": "934162d7",
   "metadata": {},
   "source": [
    "## Constants"
   ]
  },
  {
   "cell_type": "code",
   "execution_count": 5,
   "id": "6dbd997c",
   "metadata": {},
   "outputs": [],
   "source": [
    "DB_NAME = 'database/dadosmg.db'\n",
    "CSV_PATH = 'datasets\\\\'"
   ]
  },
  {
   "cell_type": "markdown",
   "id": "3e4f095d",
   "metadata": {},
   "source": [
    "## Criar e conectar a uma base de dados persistente (em disco)"
   ]
  },
  {
   "cell_type": "code",
   "execution_count": 35,
   "id": "a79b8021",
   "metadata": {},
   "outputs": [],
   "source": [
    "con = sqlite3.connect(DB_NAME)\n",
    "\n",
    "cur = con.cursor() #cursor para realizar consultas (mais otimizado que usar con)"
   ]
  },
  {
   "cell_type": "markdown",
   "id": "217d03e3",
   "metadata": {},
   "source": [
    "## Mostrar todas as tabelas de uma database"
   ]
  },
  {
   "cell_type": "code",
   "execution_count": 39,
   "id": "691b7203",
   "metadata": {},
   "outputs": [
    {
     "data": {
      "text/plain": [
       "[('dm_acao',),\n",
       " ('dm_categ_econ',),\n",
       " ('dm_elemento_desp',),\n",
       " ('dm_empenho_desp_2002',),\n",
       " ('dm_empenho_desp_2003',),\n",
       " ('dm_empenho_desp_2004',),\n",
       " ('dm_empenho_desp_2005',),\n",
       " ('dm_empenho_desp_2006',),\n",
       " ('dm_empenho_desp',)]"
      ]
     },
     "execution_count": 39,
     "metadata": {},
     "output_type": "execute_result"
    }
   ],
   "source": [
    "cur.execute(\"\"\"SELECT name FROM sqlite_master WHERE type='table';\"\"\")\n",
    "cur.fetchall()"
   ]
  },
  {
   "cell_type": "markdown",
   "id": "97be8733",
   "metadata": {},
   "source": [
    "## Apagar todas as tabelas caso existam"
   ]
  },
  {
   "cell_type": "code",
   "execution_count": 38,
   "id": "836511ec",
   "metadata": {},
   "outputs": [
    {
     "ename": "OperationalError",
     "evalue": "database is locked",
     "output_type": "error",
     "traceback": [
      "\u001b[1;31m---------------------------------------------------------------------------\u001b[0m",
      "\u001b[1;31mOperationalError\u001b[0m                          Traceback (most recent call last)",
      "Cell \u001b[1;32mIn[38], line 6\u001b[0m\n\u001b[0;32m      4\u001b[0m \u001b[38;5;28;01mif\u001b[39;00m res:\n\u001b[0;32m      5\u001b[0m     \u001b[38;5;28;01mfor\u001b[39;00m table_name \u001b[38;5;129;01min\u001b[39;00m res:\n\u001b[1;32m----> 6\u001b[0m         \u001b[43mcur\u001b[49m\u001b[38;5;241;43m.\u001b[39;49m\u001b[43mexecute\u001b[49m\u001b[43m(\u001b[49m\u001b[38;5;124;43mf\u001b[39;49m\u001b[38;5;124;43m\"\"\"\u001b[39;49m\u001b[38;5;124;43mDROP TABLE \u001b[39;49m\u001b[38;5;132;43;01m{\u001b[39;49;00m\u001b[43mtable_name\u001b[49m\u001b[43m[\u001b[49m\u001b[38;5;241;43m0\u001b[39;49m\u001b[43m]\u001b[49m\u001b[38;5;132;43;01m}\u001b[39;49;00m\u001b[38;5;124;43m \u001b[39;49m\u001b[38;5;124;43m\"\"\"\u001b[39;49m\u001b[43m)\u001b[49m\n\u001b[0;32m      7\u001b[0m         \u001b[38;5;28mprint\u001b[39m(\u001b[38;5;124mf\u001b[39m\u001b[38;5;124m\"\u001b[39m\u001b[38;5;124mTabela \u001b[39m\u001b[38;5;132;01m{\u001b[39;00mtable_name\u001b[38;5;132;01m}\u001b[39;00m\u001b[38;5;124m apagada.\u001b[39m\u001b[38;5;124m\"\u001b[39m)\n\u001b[0;32m      8\u001b[0m \u001b[38;5;28;01melse\u001b[39;00m:\n",
      "\u001b[1;31mOperationalError\u001b[0m: database is locked"
     ]
    }
   ],
   "source": [
    "cur.execute(\"\"\"SELECT name FROM sqlite_master WHERE type='table';\"\"\")\n",
    "res = cur.fetchall()\n",
    "\n",
    "if res:\n",
    "    for table_name in res:\n",
    "        cur.execute(f\"\"\"DROP TABLE {table_name[0]} \"\"\")\n",
    "        print(f\"Tabela {table_name} apagada.\")\n",
    "else:\n",
    "    print(f\"Não há tabelas em {DB_NAME}\")\n"
   ]
  },
  {
   "cell_type": "markdown",
   "id": "9de37892",
   "metadata": {},
   "source": [
    "## Carregar arquivos CSV para tabelas com mesmo nome"
   ]
  },
  {
   "cell_type": "code",
   "execution_count": 10,
   "id": "718432b2",
   "metadata": {},
   "outputs": [
    {
     "name": "stdout",
     "output_type": "stream",
     "text": [
      "Arquivo datasets/dm_acao.csv carregado para tabela dm_acao\n",
      "Arquivo datasets/dm_categ_econ.csv carregado para tabela dm_categ_econ\n",
      "Arquivo datasets/dm_elemento_desp.csv carregado para tabela dm_elemento_desp\n",
      "Arquivo datasets/dm_empenho_desp_2002.csv carregado para tabela dm_empenho_desp_2002\n",
      "Arquivo datasets/dm_empenho_desp_2003.csv carregado para tabela dm_empenho_desp_2003\n",
      "Arquivo datasets/dm_empenho_desp_2004.csv carregado para tabela dm_empenho_desp_2004\n",
      "Arquivo datasets/dm_empenho_desp_2005.csv carregado para tabela dm_empenho_desp_2005\n",
      "Arquivo datasets/dm_empenho_desp_2006.csv carregado para tabela dm_empenho_desp_2006\n"
     ]
    }
   ],
   "source": [
    "file_paths = [i.replace('\\\\', '/') for i in list(glob.iglob(f'{CSV_PATH}*.csv'))]\n",
    "\n",
    "\n",
    "\n",
    "for file in file_paths:\n",
    "    _ , tail = os.path.split(file)\n",
    "    table_name , file_extension = os.path.splitext(tail)\n",
    "    #print(file)\n",
    "\n",
    "    df = pd.read_csv(file, delimiter=';', decimal=',')\n",
    "    df.to_sql(table_name, con, if_exists='replace', index=False) # if_exists{‘fail’, ‘replace’, ‘append’}, default ‘fail’\n",
    "    print(f\"Arquivo {file} carregado para tabela {table_name}\")\n",
    "     \n",
    "con.commit()"
   ]
  },
  {
   "cell_type": "markdown",
   "id": "acf9e560",
   "metadata": {},
   "source": [
    "## Mostrar todas a tabelas de uma Database"
   ]
  },
  {
   "cell_type": "code",
   "execution_count": 15,
   "id": "247dfcc6",
   "metadata": {},
   "outputs": [
    {
     "name": "stdout",
     "output_type": "stream",
     "text": [
      "[('dm_acao',), ('dm_categ_econ',), ('dm_elemento_desp',), ('dm_empenho_desp_2002',), ('dm_empenho_desp_2003',), ('dm_empenho_desp_2004',), ('dm_empenho_desp_2005',), ('dm_empenho_desp_2006',)]\n"
     ]
    }
   ],
   "source": [
    "cur.execute(\"\"\"SELECT name FROM sqlite_master WHERE type='table';\"\"\")\n",
    "res = cur.fetchall()\n",
    "\n",
    "if res:\n",
    "    print(res)\n",
    "else:\n",
    "    print(f\"Não há tabelas na database {DB_NAME}\")\n"
   ]
  },
  {
   "cell_type": "code",
   "execution_count": 30,
   "id": "5da1514f",
   "metadata": {},
   "outputs": [
    {
     "name": "stdout",
     "output_type": "stream",
     "text": [
      "Lendo: datasets/dm_empenho_desp_2002.csv\n",
      "Arquivo datasets/dm_empenho_desp_2002.csv concatenado na tabela dm_empenho_desp\n",
      "Lendo: datasets/dm_empenho_desp_2003.csv\n",
      "Arquivo datasets/dm_empenho_desp_2003.csv concatenado na tabela dm_empenho_desp\n",
      "Lendo: datasets/dm_empenho_desp_2004.csv\n",
      "Arquivo datasets/dm_empenho_desp_2004.csv concatenado na tabela dm_empenho_desp\n",
      "Lendo: datasets/dm_empenho_desp_2005.csv\n",
      "Arquivo datasets/dm_empenho_desp_2005.csv concatenado na tabela dm_empenho_desp\n",
      "Lendo: datasets/dm_empenho_desp_2006.csv\n",
      "Arquivo datasets/dm_empenho_desp_2006.csv concatenado na tabela dm_empenho_desp\n"
     ]
    }
   ],
   "source": [
    "tbl_agg_name = 'dm_empenho_desp'\n",
    "df_agg = pd.DataFrame()\n",
    "num_linhas = 0\n",
    "\n",
    "file_paths = [i.replace('\\\\', '/') for i in list(glob.iglob(f'{CSV_PATH}dm_empenho_desp_*.csv'))]\n",
    "file_paths\n",
    "\n",
    "#temp_csv = con.execute(f\"\"\"SELECT * FROM '{file_paths[0]}' LIMIT 10 \"\"\")\n",
    "\n",
    "# cria lista contendo nomes e tipos das colunas lidas em temp_csv\n",
    "#table_columns = [str(temp_csv.columns[i] + ' ' + temp_csv.dtypes[i]) for i in range(len(temp_csv.columns))]\n",
    "\n",
    "# Concatena lista de strings em uma string somente para uso na criação da tabela nova.\n",
    "#table_columns = ', '.join(table_columns)\n",
    "\n",
    "\n",
    "#con.execute(f\"\"\"CREATE TABLE '{tbl_agg_name}' AS SELECT * FROM df_agg \"\"\") \n",
    "\n",
    "for file in file_paths:\n",
    "    _ , tail = os.path.split(file)\n",
    "    table_name , file_extension = os.path.splitext(tail)   \n",
    "    print(f'Lendo:', file)\n",
    "    \n",
    "    df = pd.read_csv(file, delimiter=';', decimal=',')\n",
    "    df.to_sql(tbl_agg_name, con, if_exists='append', index=False) # if_exists{‘fail’, ‘replace’, ‘append’}, default ‘fail’\n",
    "    \n",
    "    num_linhas += len(df)\n",
    "    print(f\"Arquivo {file} concatenado na tabela {tbl_agg_name}\\n\n",
    "      \n",
    "\n",
    "\n",
    "con.commit()"
   ]
  },
  {
   "cell_type": "code",
   "execution_count": 31,
   "id": "936a2de9",
   "metadata": {},
   "outputs": [],
   "source": []
  },
  {
   "cell_type": "markdown",
   "id": "25b4d623",
   "metadata": {},
   "source": [
    "## Fecha conexção com base de dados"
   ]
  },
  {
   "cell_type": "code",
   "execution_count": null,
   "id": "c421042f",
   "metadata": {},
   "outputs": [],
   "source": [
    "con.close()"
   ]
  }
 ],
 "metadata": {
  "kernelspec": {
   "display_name": "Python 3 (ipykernel)",
   "language": "python",
   "name": "python3"
  },
  "language_info": {
   "codemirror_mode": {
    "name": "ipython",
    "version": 3
   },
   "file_extension": ".py",
   "mimetype": "text/x-python",
   "name": "python",
   "nbconvert_exporter": "python",
   "pygments_lexer": "ipython3",
   "version": "3.11.2"
  }
 },
 "nbformat": 4,
 "nbformat_minor": 5
}
