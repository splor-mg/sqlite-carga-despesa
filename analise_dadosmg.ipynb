{
 "cells": [
  {
   "cell_type": "markdown",
   "id": "4ed20390",
   "metadata": {},
   "source": [
    "# TUTORIAL DE DUCKDB NO CONTEXTO DO SPREADMART ORÇAMENTÁRIO"
   ]
  },
  {
   "cell_type": "markdown",
   "id": "07b65407",
   "metadata": {},
   "source": [
    "## TO DO\n",
    "1. Clausulas SQL para somente criar ou deletar tabelas caso não já exisitam\n",
    "1. Tratamento de erros e exceções para quando não for possível criar ou conectar na base de dados, criar ou deletar tabelas e etc.\n",
    "1. "
   ]
  },
  {
   "cell_type": "markdown",
   "id": "1ff0b69f",
   "metadata": {},
   "source": [
    "## Imports"
   ]
  },
  {
   "cell_type": "code",
   "execution_count": 2,
   "id": "5a50f979",
   "metadata": {},
   "outputs": [],
   "source": [
    "import pandas as pd\n",
    "import glob\n",
    "import time\n",
    "import duckdb\n",
    "import os\n",
    "\n",
    "#conn = duckdb.connect() # cria base de dados in-memory"
   ]
  },
  {
   "cell_type": "markdown",
   "id": "934162d7",
   "metadata": {},
   "source": [
    "## Constants"
   ]
  },
  {
   "cell_type": "code",
   "execution_count": 6,
   "id": "6dbd997c",
   "metadata": {},
   "outputs": [],
   "source": [
    "DB_NAME = 'database/dadosmg.duckdb'\n",
    "CSV_PATH = 'datasets\\\\'"
   ]
  },
  {
   "cell_type": "markdown",
   "id": "3e4f095d",
   "metadata": {},
   "source": [
    "## Criar e conectar a uma base de dados persistente (em disco)"
   ]
  },
  {
   "cell_type": "code",
   "execution_count": 7,
   "id": "a79b8021",
   "metadata": {},
   "outputs": [],
   "source": [
    "con = duckdb.connect(DB_NAME)"
   ]
  },
  {
   "cell_type": "markdown",
   "id": "28216bd5",
   "metadata": {},
   "source": [
    "## Realizar selects diretamente no arquivos de dados e mostrar tempo de execução"
   ]
  },
  {
   "cell_type": "code",
   "execution_count": 4,
   "id": "e543bdc5",
   "metadata": {},
   "outputs": [
    {
     "name": "stdout",
     "output_type": "stream",
     "text": [
      "Tempo de select nos arquivos CSV: 10.93 segundos\n"
     ]
    }
   ],
   "source": [
    "cur_time = time.time()\n",
    "\n",
    "# troca \\\\ por / para evitar erros nas strings de caminhos dos arquivos\n",
    "file_paths = [i.replace('\\\\', '/') for i in list(glob.iglob(f'{CSV_PATH}*.csv'))] \n",
    "\n",
    "for file in file_paths: \n",
    "    df = con.execute(f\"\"\"SELECT * FROM '{file}' \"\"\").df() # converte e armazena em um pandas dataframe\n",
    "\n",
    "print(f\"Tempo de select nos arquivos CSV: {(time.time() - cur_time):1.2f} segundos\")"
   ]
  },
  {
   "cell_type": "markdown",
   "id": "acf9e560",
   "metadata": {},
   "source": [
    "## Mostrar todas a tabelas de uma Database"
   ]
  },
  {
   "cell_type": "code",
   "execution_count": 9,
   "id": "247dfcc6",
   "metadata": {},
   "outputs": [
    {
     "data": {
      "text/plain": [
       "┌─────────────────────┐\n",
       "│        name         │\n",
       "│       varchar       │\n",
       "├─────────────────────┤\n",
       "│ dm_acao             │\n",
       "│ dm_categ_econ       │\n",
       "│ dm_elemento_desp    │\n",
       "│ dm_empenho_desp     │\n",
       "│ dm_favorecido       │\n",
       "│ dm_fonte            │\n",
       "│ dm_funcao_desp      │\n",
       "│ dm_grupo_desp       │\n",
       "│ dm_item_desp        │\n",
       "│ dm_modalidade_aplic │\n",
       "│ dm_procedencia      │\n",
       "│ dm_programa         │\n",
       "│ dm_situacao_op_desp │\n",
       "│ dm_subfuncao_desp   │\n",
       "│ dm_tempo_diario     │\n",
       "│ dm_tipo_documento   │\n",
       "│ dm_unidade_orc      │\n",
       "│ fl_despesa_pgto     │\n",
       "│ ft_despesa          │\n",
       "├─────────────────────┤\n",
       "│       19 rows       │\n",
       "└─────────────────────┘"
      ]
     },
     "execution_count": 9,
     "metadata": {},
     "output_type": "execute_result"
    }
   ],
   "source": [
    "if con.sql(\"\"\"SHOW TABLES\"\"\").fetchall() != []:\n",
    "    con.execute(f\"\"\"SHOW TABLES\"\"\")\n",
    "else:\n",
    "    print(f\"Não há tabelas na database {DB_NAME}\")\n",
    "\n",
    "con.sql(\"\"\"SHOW TABLES\"\"\")"
   ]
  },
  {
   "cell_type": "markdown",
   "id": "8170b102",
   "metadata": {},
   "source": [
    "## Descrever tabelas"
   ]
  },
  {
   "cell_type": "code",
   "execution_count": 10,
   "id": "5e9b51d6",
   "metadata": {},
   "outputs": [
    {
     "name": "stdout",
     "output_type": "stream",
     "text": [
      "┌─────────────────────┬──────────────────────┬─────────────────────────────────────────────────────────────┬───────────┐\n",
      "│     table_name      │     column_names     │                        column_types                         │ temporary │\n",
      "│       varchar       │      varchar[]       │                          varchar[]                          │  boolean  │\n",
      "├─────────────────────┼──────────────────────┼─────────────────────────────────────────────────────────────┼───────────┤\n",
      "│ dm_acao             │ [id_acao, ano_exer…  │ [BIGINT, BIGINT, BIGINT, VARCHAR]                           │ false     │\n",
      "│ dm_categ_econ       │ [id_categ_econ, cd…  │ [BIGINT, BIGINT, VARCHAR]                                   │ false     │\n",
      "│ dm_elemento_desp    │ [id_elemento, cd_e…  │ [BIGINT, BIGINT, VARCHAR]                                   │ false     │\n",
      "│ dm_empenho_desp     │ [id_empenho, ano_e…  │ [BIGINT, BIGINT, BIGINT, DATE, VARCHAR, VARCHAR, DOUBLE, …  │ false     │\n",
      "│ dm_favorecido       │ [id_favorecido, tp…  │ [BIGINT, BIGINT, VARCHAR, VARCHAR]                          │ false     │\n",
      "│ dm_fonte            │ [id_fonte, cd_font…  │ [BIGINT, BIGINT, VARCHAR]                                   │ false     │\n",
      "│ dm_funcao_desp      │ [id_funcao, ano_ex…  │ [BIGINT, BIGINT, BIGINT, VARCHAR]                           │ false     │\n",
      "│ dm_grupo_desp       │ [id_grupo, cd_grup…  │ [BIGINT, BIGINT, VARCHAR]                                   │ false     │\n",
      "│ dm_item_desp        │ [id_item, cd_item,…  │ [BIGINT, BIGINT, VARCHAR]                                   │ false     │\n",
      "│ dm_modalidade_aplic │ [id_modalidade_apl…  │ [BIGINT, BIGINT, VARCHAR]                                   │ false     │\n",
      "│ dm_procedencia      │ [id_procedencia, c…  │ [BIGINT, BIGINT, VARCHAR]                                   │ false     │\n",
      "│ dm_programa         │ [id_programa, ano_…  │ [BIGINT, BIGINT, BIGINT, VARCHAR]                           │ false     │\n",
      "│ dm_situacao_op_desp │ [id_situacao_op, c…  │ [BIGINT, BIGINT, VARCHAR]                                   │ false     │\n",
      "│ dm_subfuncao_desp   │ [id_subfuncao, ano…  │ [BIGINT, BIGINT, BIGINT, VARCHAR]                           │ false     │\n",
      "│ dm_tempo_diario     │ [id_tempo, data_is…  │ [BIGINT, BIGINT, BIGINT, BIGINT, BIGINT, DATE]              │ false     │\n",
      "│ dm_tipo_documento   │ [id_tipo_documento…  │ [BIGINT, BIGINT, VARCHAR]                                   │ false     │\n",
      "│ dm_unidade_orc      │ [id_unidade_orc, a…  │ [BIGINT, BIGINT, BIGINT, BIGINT, VARCHAR, BIGINT, VARCHAR…  │ false     │\n",
      "│ fl_despesa_pgto     │ [sqa_pagamento, id…  │ [BIGINT, BIGINT]                                            │ false     │\n",
      "│ ft_despesa          │ [id_tempo, id_cate…  │ [BIGINT, BIGINT, BIGINT, BIGINT, BIGINT, BIGINT, BIGINT, …  │ false     │\n",
      "├─────────────────────┴──────────────────────┴─────────────────────────────────────────────────────────────┴───────────┤\n",
      "│ 19 rows                                                                                                    4 columns │\n",
      "└──────────────────────────────────────────────────────────────────────────────────────────────────────────────────────┘\n",
      "\n"
     ]
    }
   ],
   "source": [
    "con.sql(\"\"\"DESCRIBE\"\"\").show()"
   ]
  },
  {
   "cell_type": "markdown",
   "id": "fdb3d21b",
   "metadata": {},
   "source": [
    "## Mostra conteúdo de uma tabela"
   ]
  },
  {
   "cell_type": "code",
   "execution_count": 12,
   "id": "60399d2f",
   "metadata": {},
   "outputs": [
    {
     "name": "stdout",
     "output_type": "stream",
     "text": [
      "┌────────────┬───────────────┬────────────┬───┬───────────────┬────────────┬───────────────────┬────────────────┐\n",
      "│ id_empenho │ ano_exercicio │ nr_empenho │ … │ tipo_empenho  │ vr_empenho │ cd_uni_prog_gasto │ uni_prog_gasto │\n",
      "│   int64    │     int64     │   int64    │   │    varchar    │   double   │       int64       │    varchar     │\n",
      "├────────────┼───────────────┼────────────┼───┼───────────────┼────────────┼───────────────────┼────────────────┤\n",
      "│     788955 │          2002 │          0 │ … │ SEM DESCRICAO │   38042.78 │                 0 │ NULL           │\n",
      "│     788956 │          2002 │          0 │ … │ SEM DESCRICAO │     159.75 │                 0 │ NULL           │\n",
      "│     788957 │          2002 │          0 │ … │ SEM DESCRICAO │    6873.15 │                 0 │ NULL           │\n",
      "│     788958 │          2002 │          0 │ … │ SEM DESCRICAO │     1245.0 │                 0 │ NULL           │\n",
      "│     788959 │          2002 │          0 │ … │ SEM DESCRICAO │  169691.73 │                 0 │ NULL           │\n",
      "│     788960 │          2002 │          0 │ … │ SEM DESCRICAO │     1260.0 │                 0 │ NULL           │\n",
      "│     788961 │          2002 │          2 │ … │ ESTIMADO      │     4500.0 │                 0 │ NULL           │\n",
      "│     788962 │          2002 │          2 │ … │ ORDINÁRIO     │    1912.88 │                 0 │ NULL           │\n",
      "│     788963 │          2002 │          2 │ … │ ESTIMADO      │     1000.0 │                 0 │ NULL           │\n",
      "│     788964 │          2002 │          7 │ … │ ORDINÁRIO     │      180.0 │                 0 │ NULL           │\n",
      "│        ·   │            ·  │          · │ · │    ·          │         ·  │                 · │  ·             │\n",
      "│        ·   │            ·  │          · │ · │    ·          │         ·  │                 · │  ·             │\n",
      "│        ·   │            ·  │          · │ · │    ·          │         ·  │                 · │  ·             │\n",
      "│     794063 │          2002 │         35 │ … │ ESTIMADO      │       35.0 │                 0 │ NULL           │\n",
      "│     794064 │          2002 │        282 │ … │ ORDINÁRIO     │       35.0 │                 0 │ NULL           │\n",
      "│     794204 │          2002 │         82 │ … │ ESTIMADO      │      700.0 │                 0 │ NULL           │\n",
      "│     794205 │          2002 │         62 │ … │ ORDINÁRIO     │      400.0 │                 0 │ NULL           │\n",
      "│     794206 │          2002 │       1581 │ … │ ORDINÁRIO     │      363.0 │                 0 │ NULL           │\n",
      "│     794207 │          2002 │       1033 │ … │ ESTIMADO      │     1437.0 │                 0 │ NULL           │\n",
      "│     794208 │          2002 │        336 │ … │ ORDINÁRIO     │       9.14 │                 0 │ NULL           │\n",
      "│     794209 │          2002 │         21 │ … │ ESTIMADO      │       70.0 │                 0 │ NULL           │\n",
      "│     794210 │          2002 │         22 │ … │ ESTIMADO      │       55.0 │                 0 │ NULL           │\n",
      "│     794211 │          2002 │        145 │ … │ ESTIMADO      │     1890.0 │                 0 │ NULL           │\n",
      "├────────────┴───────────────┴────────────┴───┴───────────────┴────────────┴───────────────────┴────────────────┤\n",
      "│ ? rows (>9999 rows, 20 shown)                                                             9 columns (7 shown) │\n",
      "└───────────────────────────────────────────────────────────────────────────────────────────────────────────────┘\n",
      "\n"
     ]
    }
   ],
   "source": [
    "TABLE_NAME = \"dm_empenho_desp\"\n",
    "\n",
    "con.table(TABLE_NAME).show()"
   ]
  },
  {
   "cell_type": "markdown",
   "id": "b0ff44ca",
   "metadata": {},
   "source": [
    "## Descrever uma tabela específica"
   ]
  },
  {
   "cell_type": "code",
   "execution_count": 18,
   "id": "fdc25925",
   "metadata": {},
   "outputs": [
    {
     "data": {
      "text/plain": [
       "['id_empenho',\n",
       " 'ano_exercicio',\n",
       " 'nr_empenho',\n",
       " 'dt_empenho',\n",
       " 'unidade_executora',\n",
       " 'tipo_empenho',\n",
       " 'vr_empenho',\n",
       " 'cd_uni_prog_gasto',\n",
       " 'uni_prog_gasto']"
      ]
     },
     "execution_count": 18,
     "metadata": {},
     "output_type": "execute_result"
    }
   ],
   "source": [
    "TABLE_NAME = \"dm_empenho_desp\"\n",
    "\n",
    "con.table(TABLE_NAME).columns"
   ]
  },
  {
   "cell_type": "markdown",
   "id": "6252ae90",
   "metadata": {},
   "source": [
    "## Agregar linhas por valores de uma coluna\n",
    "Aplica um agregado (opcionalmente agrupado) sobre a relação. O sistema agrupará automaticamente por qualquer coluna que não seja agregada."
   ]
  },
  {
   "cell_type": "code",
   "execution_count": 19,
   "id": "4023c5a3",
   "metadata": {},
   "outputs": [
    {
     "data": {
      "text/plain": [
       "┌───────┬────────────────────┬───────────────────┐\n",
       "│  ano  │  sum(vr_empenho)   │ count(id_empenho) │\n",
       "│ int64 │       double       │       int64       │\n",
       "├───────┼────────────────────┼───────────────────┤\n",
       "│  2002 │  6270422340.549973 │            606150 │\n",
       "│  2003 │  5453511175.649942 │            558038 │\n",
       "│  2004 │  7250771657.909958 │            573714 │\n",
       "│  2005 │ 11596942700.959892 │            626652 │\n",
       "│  2006 │  8595315355.870079 │            703499 │\n",
       "│  2007 │  9153740930.199944 │            722089 │\n",
       "│  2008 │ 12796911733.849953 │            918825 │\n",
       "│  2009 │  13322191499.54995 │            846895 │\n",
       "│  2010 │ 14332362413.470098 │            745751 │\n",
       "│  2011 │ 14536222289.050173 │            773698 │\n",
       "│  2012 │ 14475937430.509962 │            950127 │\n",
       "│  2013 │ 19717026360.750134 │            912732 │\n",
       "│  2014 │ 16797433865.470184 │            713494 │\n",
       "│  2015 │  18296930774.79008 │            667858 │\n",
       "│  2016 │ 16465296642.060255 │            542617 │\n",
       "│  2017 │ 20683004332.179977 │            361712 │\n",
       "│  2018 │ 22111898718.848103 │            256397 │\n",
       "│  2019 │ 31629437848.668484 │            319748 │\n",
       "│  2020 │     24022367258.17 │            274874 │\n",
       "│  2021 │  32734128268.40027 │            348795 │\n",
       "│  2022 │  39245028927.09092 │            439655 │\n",
       "│  2023 │      9668004767.52 │             96914 │\n",
       "├───────┴────────────────────┴───────────────────┤\n",
       "│ 22 rows                              3 columns │\n",
       "└────────────────────────────────────────────────┘"
      ]
     },
     "execution_count": 19,
     "metadata": {},
     "output_type": "execute_result"
    }
   ],
   "source": [
    "TABLE_NAME = 'dm_empenho_desp'\n",
    "rel = con.sql(f\"\"\"SELECT * FROM {TABLE_NAME}\"\"\")\n",
    "\n",
    "rel.aggregate(\"ano_exercicio AS 'ano', sum(vr_empenho), count(id_empenho)\")"
   ]
  },
  {
   "cell_type": "markdown",
   "id": "2a954af8",
   "metadata": {},
   "source": [
    "## Concatenar dois arquivos CSV em uma só planilha"
   ]
  },
  {
   "cell_type": "code",
   "execution_count": 12,
   "id": "10d3ed46",
   "metadata": {},
   "outputs": [
    {
     "name": "stdout",
     "output_type": "stream",
     "text": [
      "num linhas df1: 606150\n",
      "num linhas df2: 558038\n",
      "total linhas: 1164188\n",
      "Num linhas da tabela agregada:\n",
      "┌──────────────┐\n",
      "│ count_star() │\n",
      "│    int64     │\n",
      "├──────────────┤\n",
      "│      1164188 │\n",
      "└──────────────┘\n",
      "\n"
     ]
    }
   ],
   "source": [
    "tbl1_name = 'dm_empenho_desp_2002'\n",
    "tbl2_name = 'dm_empenho_desp_2003'\n",
    "tbl_agg_name = 'dm_empenho_desp_agg'\n",
    "\n",
    "\n",
    "df1 = con.sql(f\"\"\"SELECT * FROM {tbl1_name}\"\"\").df()\n",
    "print('num linhas df1:', len(df1))\n",
    "df2 = con.sql(f\"\"\"SELECT * FROM {tbl2_name}\"\"\").df()\n",
    "print('num linhas df2:', len(df2))\n",
    "print('total linhas:', len(df1) + len(df2))\n",
    "\n",
    "df_agg = pd.concat([df1, df2])\n",
    "\n",
    "con.execute(f\"\"\"CREATE TABLE '{tbl_agg_name}' AS SELECT * FROM df_agg \"\"\")\n",
    "\n",
    "print('Num linhas da tabela agregada:')\n",
    "print(con.sql(f\"\"\"SELECT COUNT(*) FROM {tbl_agg_name}\"\"\"))"
   ]
  },
  {
   "cell_type": "code",
   "execution_count": 13,
   "id": "5da1514f",
   "metadata": {},
   "outputs": [
    {
     "name": "stdout",
     "output_type": "stream",
     "text": [
      "Lendo: datasets/dm_empenho_desp_2002.csv\n",
      "Lendo: datasets/dm_empenho_desp_2003.csv\n",
      "Lendo: datasets/dm_empenho_desp_2004.csv\n",
      "Lendo: datasets/dm_empenho_desp_2005.csv\n",
      "Lendo: datasets/dm_empenho_desp_2006.csv\n",
      "Lendo: datasets/dm_empenho_desp_2007.csv\n",
      "Lendo: datasets/dm_empenho_desp_2008.csv\n",
      "Lendo: datasets/dm_empenho_desp_2009.csv\n",
      "Lendo: datasets/dm_empenho_desp_2010.csv\n",
      "Lendo: datasets/dm_empenho_desp_2011.csv\n",
      "Lendo: datasets/dm_empenho_desp_2012.csv\n",
      "Lendo: datasets/dm_empenho_desp_2013.csv\n",
      "Lendo: datasets/dm_empenho_desp_2014.csv\n",
      "Lendo: datasets/dm_empenho_desp_2015.csv\n",
      "Lendo: datasets/dm_empenho_desp_2016.csv\n",
      "Lendo: datasets/dm_empenho_desp_2017.csv\n",
      "Lendo: datasets/dm_empenho_desp_2018.csv\n",
      "Lendo: datasets/dm_empenho_desp_2019.csv\n",
      "Lendo: datasets/dm_empenho_desp_2020.csv\n",
      "Lendo: datasets/dm_empenho_desp_2021.csv\n",
      "Lendo: datasets/dm_empenho_desp_2022.csv\n",
      "Lendo: datasets/dm_empenho_desp_2023.csv\n",
      "Total de linhas tabelas lidas: 12960234\n",
      "Total de linhas do dataframe concatenado: 12960234\n",
      "Num linhas da tabela agregada:\n",
      "┌──────────────┐\n",
      "│ count_star() │\n",
      "│    int64     │\n",
      "├──────────────┤\n",
      "│     12960234 │\n",
      "└──────────────┘\n",
      "\n",
      "┌────────────┬───────────────┬────────────┬───┬───────────────┬────────────┬───────────────────┬────────────────┐\n",
      "│ id_empenho │ ano_exercicio │ nr_empenho │ … │ tipo_empenho  │ vr_empenho │ cd_uni_prog_gasto │ uni_prog_gasto │\n",
      "│   int64    │     int64     │   int64    │   │    varchar    │   double   │       int64       │    varchar     │\n",
      "├────────────┼───────────────┼────────────┼───┼───────────────┼────────────┼───────────────────┼────────────────┤\n",
      "│     788955 │          2002 │          0 │ … │ SEM DESCRICAO │   38042.78 │                 0 │ NULL           │\n",
      "│     788956 │          2002 │          0 │ … │ SEM DESCRICAO │     159.75 │                 0 │ NULL           │\n",
      "│     788957 │          2002 │          0 │ … │ SEM DESCRICAO │    6873.15 │                 0 │ NULL           │\n",
      "│     788958 │          2002 │          0 │ … │ SEM DESCRICAO │     1245.0 │                 0 │ NULL           │\n",
      "│     788959 │          2002 │          0 │ … │ SEM DESCRICAO │  169691.73 │                 0 │ NULL           │\n",
      "│     788960 │          2002 │          0 │ … │ SEM DESCRICAO │     1260.0 │                 0 │ NULL           │\n",
      "│     788961 │          2002 │          2 │ … │ ESTIMADO      │     4500.0 │                 0 │ NULL           │\n",
      "│     788962 │          2002 │          2 │ … │ ORDINÁRIO     │    1912.88 │                 0 │ NULL           │\n",
      "│     788963 │          2002 │          2 │ … │ ESTIMADO      │     1000.0 │                 0 │ NULL           │\n",
      "│     788964 │          2002 │          7 │ … │ ORDINÁRIO     │      180.0 │                 0 │ NULL           │\n",
      "│        ·   │            ·  │          · │ · │    ·          │         ·  │                 · │  ·             │\n",
      "│        ·   │            ·  │          · │ · │    ·          │         ·  │                 · │  ·             │\n",
      "│        ·   │            ·  │          · │ · │    ·          │         ·  │                 · │  ·             │\n",
      "│     794063 │          2002 │         35 │ … │ ESTIMADO      │       35.0 │                 0 │ NULL           │\n",
      "│     794064 │          2002 │        282 │ … │ ORDINÁRIO     │       35.0 │                 0 │ NULL           │\n",
      "│     794204 │          2002 │         82 │ … │ ESTIMADO      │      700.0 │                 0 │ NULL           │\n",
      "│     794205 │          2002 │         62 │ … │ ORDINÁRIO     │      400.0 │                 0 │ NULL           │\n",
      "│     794206 │          2002 │       1581 │ … │ ORDINÁRIO     │      363.0 │                 0 │ NULL           │\n",
      "│     794207 │          2002 │       1033 │ … │ ESTIMADO      │     1437.0 │                 0 │ NULL           │\n",
      "│     794208 │          2002 │        336 │ … │ ORDINÁRIO     │       9.14 │                 0 │ NULL           │\n",
      "│     794209 │          2002 │         21 │ … │ ESTIMADO      │       70.0 │                 0 │ NULL           │\n",
      "│     794210 │          2002 │         22 │ … │ ESTIMADO      │       55.0 │                 0 │ NULL           │\n",
      "│     794211 │          2002 │        145 │ … │ ESTIMADO      │     1890.0 │                 0 │ NULL           │\n",
      "├────────────┴───────────────┴────────────┴───┴───────────────┴────────────┴───────────────────┴────────────────┤\n",
      "│ ? rows (>9999 rows, 20 shown)                                                             9 columns (7 shown) │\n",
      "└───────────────────────────────────────────────────────────────────────────────────────────────────────────────┘\n",
      "\n"
     ]
    }
   ],
   "source": [
    "tbl_agg_name = 'dm_empenho_desp'\n",
    "df_agg = pd.DataFrame()\n",
    "num_linhas = 0\n",
    "\n",
    "file_paths = [i.replace('\\\\', '/') for i in list(glob.iglob(f'{CSV_PATH}dm_empenho_desp_*.csv'))]\n",
    "\n",
    "for file in file_paths:\n",
    "    print(f'Lendo:', file)\n",
    "    df1 = con.execute(f\"\"\"SELECT * FROM '{file}' \"\"\").df()\n",
    "    df_agg = pd.concat([df_agg, df1])\n",
    "    num_linhas += len(df1)\n",
    "      \n",
    "con.execute(f\"\"\"CREATE TABLE '{tbl_agg_name}' AS SELECT * FROM df_agg \"\"\") \n",
    "\n",
    "print('Total de linhas tabelas lidas:', num_linhas)\n",
    "print('Total de linhas do dataframe concatenado:', len(df_agg))\n",
    "print('Num linhas da tabela agregada:')\n",
    "print(con.sql(f\"\"\"SELECT COUNT(*) FROM {tbl_agg_name}\"\"\"))\n",
    "\n",
    "con.table(tbl_agg_name).show()"
   ]
  },
  {
   "cell_type": "markdown",
   "id": "25b4d623",
   "metadata": {},
   "source": [
    "## Fecha conexção com base de dados"
   ]
  },
  {
   "cell_type": "code",
   "execution_count": null,
   "id": "c421042f",
   "metadata": {},
   "outputs": [],
   "source": [
    "con.close()"
   ]
  }
 ],
 "metadata": {
  "kernelspec": {
   "display_name": "Python 3 (ipykernel)",
   "language": "python",
   "name": "python3"
  },
  "language_info": {
   "codemirror_mode": {
    "name": "ipython",
    "version": 3
   },
   "file_extension": ".py",
   "mimetype": "text/x-python",
   "name": "python",
   "nbconvert_exporter": "python",
   "pygments_lexer": "ipython3",
   "version": "3.11.2"
  }
 },
 "nbformat": 4,
 "nbformat_minor": 5
}
